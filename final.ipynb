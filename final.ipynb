{
 "cells": [
  {
   "cell_type": "code",
   "execution_count": 1,
   "metadata": {},
   "outputs": [],
   "source": [
    "#To get URL from the given string \n",
    "#example = \"To study the Regular Expression you can go to \"https://w3resource.com\" and for any problem you can refer \"http://github.com\" as well.\"\n",
    "def is_valid_url(text):\n",
    "    import re\n",
    "    urls = re.findall('http[s]?://(?:[a-zA-Z]|[0-9]|[$-_@.&+]|[!*\\(\\),]|(?:%[0-9a-fA-F][0-9a-fA-F]))+', text)\n",
    "    print(\"Original string: \",text)\n",
    "    if(urls == []):\n",
    "        print('This string does not contain any valid URL')\n",
    "    else:\n",
    "        print(\"URL in the string: \",urls)"
   ]
  },
  {
   "cell_type": "code",
   "execution_count": 2,
   "metadata": {},
   "outputs": [],
   "source": [
    "#To get all the users who has given answers in the course\n",
    "def get_user_name():\n",
    "    import json\n",
    "    import re\n",
    "    with open('./Source.json') as access_json:\n",
    "        read_content = json.load(access_json)\n",
    "    reObj = re.compile('display_name')\n",
    "    question_access = read_content['results']\n",
    "    for question_data in question_access:\n",
    "        replies_access = question_data['replies']\n",
    "        for replies_data in replies_access:\n",
    "            user=replies_data['user']\n",
    "            for key in user.keys():\n",
    "                if(reObj.match(key)):\n",
    "                    print (user[key])"
   ]
  }
 ],
 "metadata": {
  "kernelspec": {
   "display_name": "Python 3",
   "language": "python",
   "name": "python3"
  },
  "language_info": {
   "codemirror_mode": {
    "name": "ipython",
    "version": 3
   },
   "file_extension": ".py",
   "mimetype": "text/x-python",
   "name": "python",
   "nbconvert_exporter": "python",
   "pygments_lexer": "ipython3",
   "version": "3.7.6"
  }
 },
 "nbformat": 4,
 "nbformat_minor": 4
}
